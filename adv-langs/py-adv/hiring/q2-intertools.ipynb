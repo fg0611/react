{
 "cells": [
  {
   "cell_type": "code",
   "execution_count": 12,
   "metadata": {},
   "outputs": [],
   "source": [
    "import itertools as it\n",
    "import random as rnd\n",
    "import numpy as np\n",
    "import pandas as pd\n",
    "from collections import defaultdict\n",
    "from datetime import datetime, timedelta\n",
    "\n",
    "from companies import data as companies\n",
    "from vacants import data as vacants\n",
    "from candidates import data as candidates\n",
    "from skills import data as skills\n",
    "# from applications import data as applications\n",
    "# from candidates_skills import data as candidates_skills\n",
    "# from requirements import data as requirements"
   ]
  },
  {
   "cell_type": "code",
   "execution_count": 13,
   "metadata": {},
   "outputs": [],
   "source": [
    "def generate_relations (main_key, main_list, sub_key, sub_list, min_sample, max_sample): \n",
    "    # generate relations from a random number of items in sub_list for each item in main_list\n",
    "    relations = []\n",
    "    if len(main_key) == 0 | len(sub_key) == 0 | len(main_list) == 0 | len(sub_list) == 0:\n",
    "        print('check params')\n",
    "        return relations\n",
    "    if min_sample < 1 | max_sample < 1 | min_sample >= max_sample:\n",
    "        print('check min and max values')\n",
    "        return relations\n",
    "    for m in main_list:\n",
    "        n_items = rnd.randint(min_sample, max_sample)\n",
    "        sub_list_sample = rnd.sample(sub_list, n_items)\n",
    "        for s in sub_list_sample:\n",
    "            relations.append({'id': len(relations)+1, main_key: m['id'], sub_key: s['id']})\n",
    "    return relations\n",
    "\n"
   ]
  },
  {
   "cell_type": "code",
   "execution_count": 14,
   "metadata": {},
   "outputs": [],
   "source": [
    "# data = generate_relations('company_id', companies, 'vacant_id', vacants, 1, 2)\n",
    "# df = pd.DataFrame(data)\n"
   ]
  },
  {
   "cell_type": "code",
   "execution_count": 15,
   "metadata": {},
   "outputs": [],
   "source": [
    "applications = generate_relations('company', companies, 'vacant', vacants, 1, 2)\n",
    "candidate_skills = generate_relations('candidate', candidates, 'skill', skills, 1, 2)\n",
    "requirements = generate_relations('vacant', vacants, 'skill', skills, 1, 2)"
   ]
  },
  {
   "cell_type": "code",
   "execution_count": 20,
   "metadata": {},
   "outputs": [
    {
     "name": "stdout",
     "output_type": "stream",
     "text": [
      "[{'id': 1, 'company': 1, 'vacant': 5, 'published_date': '2024-11-24'}, {'id': 2, 'company': 2, 'vacant': 2, 'published_date': '2024-10-28'}, {'id': 3, 'company': 3, 'vacant': 3, 'published_date': '2024-12-04'}]\n"
     ]
    }
   ],
   "source": [
    "# Assign random date from datetime range to applications\n",
    "def date_random (start: datetime, end: datetime):\n",
    "    delta = end - start\n",
    "    random_days = rnd.randint(0, delta.days)\n",
    "    return (start + timedelta(days=random_days)).strftime('%Y-%m-%d')\n",
    "\n",
    "# set start - end\n",
    "start_date = datetime(2024, 10, 1)\n",
    "end_date = datetime(2025, 3, 1)\n",
    "\n",
    "for a in applications:\n",
    "    a['published_date'] = date_random(start_date, end_date)\n",
    "\n",
    "print(applications)\n"
   ]
  },
  {
   "cell_type": "markdown",
   "metadata": {},
   "source": []
  },
  {
   "cell_type": "code",
   "execution_count": 16,
   "metadata": {},
   "outputs": [
    {
     "name": "stdout",
     "output_type": "stream",
     "text": [
      "{1: 1, 2: 1, 3: 1}\n"
     ]
    }
   ],
   "source": [
    "# COUNT VACANTS PER COMPANY\n",
    "\n",
    "# vacants_per_company = {}\n",
    "\n",
    "# for a in applications:\n",
    "#     vacants_per_company[a['company']] = vacants_per_company.get(a['company'], 0) + 1\n",
    "\n",
    "# print(vacants_per_company)\n",
    "\n",
    "# print([{'id': c['id'], 'name': c['name'], 'vacants': vacants_per_company[c['id']]} for c in companies])\n",
    "\n",
    "# query_c_id = min(1, len(companies))\n",
    "# c_id_query_result = [a for a in applications if a['company'] == query_c_id]\n",
    "# print(c_id_query_result)\n",
    "# c_name = list(filter(lambda c: c['id']==query_c_id, companies))[0]['name']\n",
    "# print(f'{c_name} has {len(c_id_query_result)} vacants')\n",
    "\n",
    "# using default dict shorttens the code by avoiding to use dict.get() method\n",
    "\n",
    "vxc = defaultdict(int)\n",
    "\n",
    "for a in applications:\n",
    "    vxc[a['company']] = vxc[a['company']] + 1\n",
    "\n",
    "print(dict(vxc))\n",
    "\n",
    "\n",
    "\n"
   ]
  },
  {
   "cell_type": "code",
   "execution_count": 17,
   "metadata": {},
   "outputs": [
    {
     "data": {
      "text/plain": [
       "[{'id': 1, 'company': 1, 'vacant': 5},\n",
       " {'id': 2, 'company': 2, 'vacant': 2},\n",
       " {'id': 3, 'company': 3, 'vacant': 3}]"
      ]
     },
     "execution_count": 17,
     "metadata": {},
     "output_type": "execute_result"
    }
   ],
   "source": [
    "applications"
   ]
  },
  {
   "cell_type": "code",
   "execution_count": 18,
   "metadata": {},
   "outputs": [],
   "source": [
    "# COUNT SKILLS PER CANDIDATE\n",
    "\n",
    "# candidate_skills.sort(key=lambda cs: cs['candidate'])  # Asegurar que esté ordenado\n",
    "# grouped_skills = it.groupby(candidate_skills, key=lambda cs: cs['candidate'])\n",
    "# skill_counts = {candidate_id: len(list(group)) for candidate_id, group in grouped_skills}\n",
    "\n",
    "# for c in candidates:\n",
    "#     c['c_skills'] = skill_counts.get(c['id'], 0)"
   ]
  },
  {
   "cell_type": "code",
   "execution_count": null,
   "metadata": {},
   "outputs": [],
   "source": []
  }
 ],
 "metadata": {
  "kernelspec": {
   "display_name": "py39",
   "language": "python",
   "name": "python3"
  },
  "language_info": {
   "codemirror_mode": {
    "name": "ipython",
    "version": 3
   },
   "file_extension": ".py",
   "mimetype": "text/x-python",
   "name": "python",
   "nbconvert_exporter": "python",
   "pygments_lexer": "ipython3",
   "version": "3.9.21"
  }
 },
 "nbformat": 4,
 "nbformat_minor": 2
}
