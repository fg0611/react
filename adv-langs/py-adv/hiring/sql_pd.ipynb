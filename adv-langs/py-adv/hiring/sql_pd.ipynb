{
 "cells": [
  {
   "cell_type": "code",
   "execution_count": 9,
   "metadata": {},
   "outputs": [],
   "source": [
    "import os\n",
    "from dotenv import load_dotenv\n",
    "import pg8000\n",
    "import pandas as pd\n",
    "\n",
    "# Cargar variables de entorno desde .env\n",
    "load_dotenv()\n",
    "\n",
    "PASS = os.getenv(\"POSTGRES_PASSWORD\")\n",
    "\n",
    "# Datos de conexión a la base de datos\n",
    "db_params = {\n",
    "    'host': 'localhost',\n",
    "    'database': 'training',\n",
    "    'user': 'postgres',\n",
    "    'password': PASS,\n",
    "    'port': 5432  # Puerto predeterminado de PostgreSQL\n",
    "}"
   ]
  },
  {
   "cell_type": "code",
   "execution_count": 29,
   "metadata": {},
   "outputs": [
    {
     "name": "stdout",
     "output_type": "stream",
     "text": [
      "['empresas', 'vacantes', 'postulantes', 'postulantes_habilidades', 'habilidades', 'postulaciones', 'requerimientos']\n"
     ]
    }
   ],
   "source": [
    "# get All table names\n",
    "try:\n",
    "    conn = pg8000.connect(**db_params)\n",
    "    cursor = conn.cursor()\n",
    "    select = \"SELECT table_name FROM information_schema.tables\"\n",
    "    where = \"WHERE table_schema = 'public'\"\n",
    "    cursor.execute(f'{select} {where}')\n",
    "    table_names = cursor.fetchall()\n",
    "\n",
    "    if table_names:\n",
    "        table_names = [t[0] for t in table_names]\n",
    "        print(table_names)\n",
    "    else:\n",
    "        print('No tables found')\n",
    "except pg8000.Error as e:\n",
    "    print(f'Error pg8000 conn: {e}')\n",
    "\n",
    "finally:\n",
    "    if conn:\n",
    "        cursor.close()\n",
    "        conn.close()"
   ]
  },
  {
   "cell_type": "code",
   "execution_count": 31,
   "metadata": {},
   "outputs": [],
   "source": [
    "try:\n",
    "    conn = pg8000.connect(**db_params)\n",
    "    cursor = conn.cursor()\n",
    "\n",
    "    dataframes = {}\n",
    "    name = 'empresas'\n",
    "    # cursor.execute(f'select * from {name}')\n",
    "    # print(cursor.description)\n",
    "    for name in table_names:\n",
    "        cursor.execute(f'select * from {name}')\n",
    "        cols = [item[0] for item in cursor.description]\n",
    "        rows = cursor.fetchall()\n",
    "        dataframes[name] = pd.DataFrame(rows, columns=cols)\n",
    "\n",
    "except pg8000.Error as e:\n",
    "    print(f'Error while exec query: {e}')\n",
    "finally:\n",
    "    if conn:\n",
    "        cursor.close()\n",
    "        conn.close()\n",
    "    "
   ]
  },
  {
   "cell_type": "code",
   "execution_count": 32,
   "metadata": {},
   "outputs": [
    {
     "data": {
      "text/html": [
       "<div>\n",
       "<style scoped>\n",
       "    .dataframe tbody tr th:only-of-type {\n",
       "        vertical-align: middle;\n",
       "    }\n",
       "\n",
       "    .dataframe tbody tr th {\n",
       "        vertical-align: top;\n",
       "    }\n",
       "\n",
       "    .dataframe thead th {\n",
       "        text-align: right;\n",
       "    }\n",
       "</style>\n",
       "<table border=\"1\" class=\"dataframe\">\n",
       "  <thead>\n",
       "    <tr style=\"text-align: right;\">\n",
       "      <th></th>\n",
       "      <th>id_empresa</th>\n",
       "      <th>nombre_empresa</th>\n",
       "      <th>sector</th>\n",
       "    </tr>\n",
       "  </thead>\n",
       "  <tbody>\n",
       "    <tr>\n",
       "      <th>0</th>\n",
       "      <td>1</td>\n",
       "      <td>Tech Innovators Inc.</td>\n",
       "      <td>Tecnología</td>\n",
       "    </tr>\n",
       "    <tr>\n",
       "      <th>1</th>\n",
       "      <td>2</td>\n",
       "      <td>Global Finance Ltd.</td>\n",
       "      <td>Finanzas</td>\n",
       "    </tr>\n",
       "    <tr>\n",
       "      <th>2</th>\n",
       "      <td>3</td>\n",
       "      <td>Health Solutions SA</td>\n",
       "      <td>Salud</td>\n",
       "    </tr>\n",
       "  </tbody>\n",
       "</table>\n",
       "</div>"
      ],
      "text/plain": [
       "   id_empresa        nombre_empresa      sector\n",
       "0           1  Tech Innovators Inc.  Tecnología\n",
       "1           2   Global Finance Ltd.    Finanzas\n",
       "2           3   Health Solutions SA       Salud"
      ]
     },
     "execution_count": 32,
     "metadata": {},
     "output_type": "execute_result"
    }
   ],
   "source": [
    "dataframes['empresas']"
   ]
  },
  {
   "cell_type": "code",
   "execution_count": null,
   "metadata": {},
   "outputs": [],
   "source": []
  }
 ],
 "metadata": {
  "kernelspec": {
   "display_name": "py39",
   "language": "python",
   "name": "python3"
  },
  "language_info": {
   "codemirror_mode": {
    "name": "ipython",
    "version": 3
   },
   "file_extension": ".py",
   "mimetype": "text/x-python",
   "name": "python",
   "nbconvert_exporter": "python",
   "pygments_lexer": "ipython3",
   "version": "3.9.21"
  }
 },
 "nbformat": 4,
 "nbformat_minor": 2
}
